{
 "cells": [
  {
   "cell_type": "markdown",
   "id": "b2c498e7-de43-4363-bbe4-b83c9cab225d",
   "metadata": {},
   "source": [
    "# Numpy Exercises\n",
    "Now that we've learned about NumPy let's test your konwledge. We'll start off with a few simple tasks, and then you'll be asked some more complicated questions"
   ]
  },
  {
   "cell_type": "markdown",
   "id": "548a7c96-abe2-4c67-8a87-138cd5ace66d",
   "metadata": {},
   "source": [
    "Import Numpy as np"
   ]
  },
  {
   "cell_type": "code",
   "execution_count": 5,
   "id": "f19e7071-0e95-469d-8723-66c612066842",
   "metadata": {},
   "outputs": [],
   "source": [
    "import numpy as np"
   ]
  },
  {
   "cell_type": "markdown",
   "id": "98bd30b0-f135-4fb1-a223-abe0302152b0",
   "metadata": {},
   "source": [
    "## Create an array of 10 zeros"
   ]
  },
  {
   "cell_type": "code",
   "execution_count": 4,
   "id": "3aade8a4-d361-4970-8657-86419f487c01",
   "metadata": {},
   "outputs": [
    {
     "data": {
      "text/plain": [
       "array([0., 0., 0., 0., 0., 0., 0., 0., 0., 0.])"
      ]
     },
     "execution_count": 4,
     "metadata": {},
     "output_type": "execute_result"
    }
   ],
   "source": [
    "arr = np.zeros(10)\n",
    "arr"
   ]
  },
  {
   "cell_type": "markdown",
   "id": "7050d603-4827-463d-9c3e-6ccb2e18b1df",
   "metadata": {},
   "source": [
    "### Create an array of 10 ones"
   ]
  },
  {
   "cell_type": "code",
   "execution_count": 7,
   "id": "57c4ab02-dba6-4454-8ff6-b8df8148f1a0",
   "metadata": {},
   "outputs": [
    {
     "data": {
      "text/plain": [
       "array([1., 1., 1., 1., 1., 1., 1., 1., 1., 1.])"
      ]
     },
     "execution_count": 7,
     "metadata": {},
     "output_type": "execute_result"
    }
   ],
   "source": [
    "arr1 = np.ones(10)\n",
    "arr1"
   ]
  },
  {
   "cell_type": "markdown",
   "id": "06fd7cc7-a207-40dd-8735-6f3a7a00771c",
   "metadata": {},
   "source": [
    "### Create an array of 10 five "
   ]
  },
  {
   "cell_type": "code",
   "execution_count": 10,
   "id": "756f24fb-0694-4c48-825d-1530a1a42433",
   "metadata": {},
   "outputs": [
    {
     "data": {
      "text/plain": [
       "array([5., 5., 5., 5., 5., 5., 5., 5., 5., 5.])"
      ]
     },
     "execution_count": 10,
     "metadata": {},
     "output_type": "execute_result"
    }
   ],
   "source": [
    "arr5 = np.ones(10) * 5\n",
    "arr5"
   ]
  },
  {
   "cell_type": "markdown",
   "id": "28a6bcdf-43df-42f0-8fcc-7bfbdff2a539",
   "metadata": {},
   "source": [
    "### Create an array of the interger from 10 to 50"
   ]
  },
  {
   "cell_type": "code",
   "execution_count": 13,
   "id": "0ddc086d-3954-4492-a08b-e0833437551c",
   "metadata": {},
   "outputs": [
    {
     "data": {
      "text/plain": [
       "array([10, 11, 12, 13, 14, 15, 16, 17, 18, 19, 20, 21, 22, 23, 24, 25, 26,\n",
       "       27, 28, 29, 30, 31, 32, 33, 34, 35, 36, 37, 38, 39, 40, 41, 42, 43,\n",
       "       44, 45, 46, 47, 48, 49, 50])"
      ]
     },
     "execution_count": 13,
     "metadata": {},
     "output_type": "execute_result"
    }
   ],
   "source": [
    "arr10_to_50 = np.arange(10,51)\n",
    "arr10_to_50"
   ]
  },
  {
   "cell_type": "markdown",
   "id": "b0011450-5571-4d03-8135-6e8efc1d3215",
   "metadata": {},
   "source": [
    "### Create an array of all the even integer from 10 to 50"
   ]
  },
  {
   "cell_type": "code",
   "execution_count": 15,
   "id": "079ba0c8-0265-488f-afc4-c20c1de97ad2",
   "metadata": {},
   "outputs": [
    {
     "data": {
      "text/plain": [
       "array([10, 12, 14, 16, 18, 20, 22, 24, 26, 28, 30, 32, 34, 36, 38, 40, 42,\n",
       "       44, 46, 48, 50])"
      ]
     },
     "execution_count": 15,
     "metadata": {},
     "output_type": "execute_result"
    }
   ],
   "source": [
    "arr10_to_50_even = np.arange(10,51,2)\n",
    "arr10_to_50_even"
   ]
  },
  {
   "cell_type": "markdown",
   "id": "ee983f83-ffc4-4708-9c01-6d54a84617e4",
   "metadata": {},
   "source": [
    "### Create a 3x3 matrix with values ranging from 0 to 8"
   ]
  },
  {
   "cell_type": "code",
   "execution_count": 17,
   "id": "d00fcff9-a6e5-47ab-a26a-46de541189d6",
   "metadata": {},
   "outputs": [
    {
     "data": {
      "text/plain": [
       "array([[0, 1, 2],\n",
       "       [3, 4, 5],\n",
       "       [6, 7, 8]])"
      ]
     },
     "execution_count": 17,
     "metadata": {},
     "output_type": "execute_result"
    }
   ],
   "source": [
    "np.arange(0,9).reshape(3,3)"
   ]
  },
  {
   "cell_type": "markdown",
   "id": "8df17d19-5cb5-4e33-bef9-f8d939fcc529",
   "metadata": {},
   "source": [
    "### Create a 3x3 identity matrix"
   ]
  },
  {
   "cell_type": "code",
   "execution_count": 18,
   "id": "682094b0-d194-431d-b2a7-3a38526e70b5",
   "metadata": {},
   "outputs": [
    {
     "data": {
      "text/plain": [
       "array([[1., 0., 0.],\n",
       "       [0., 1., 0.],\n",
       "       [0., 0., 1.]])"
      ]
     },
     "execution_count": 18,
     "metadata": {},
     "output_type": "execute_result"
    }
   ],
   "source": [
    "np.eye(3)"
   ]
  },
  {
   "cell_type": "markdown",
   "id": "2a1720df-0eb5-4432-87c4-d0a8ab9ced5d",
   "metadata": {},
   "source": [
    "### Use Numpy to generate a random number between 0 and 1"
   ]
  },
  {
   "cell_type": "code",
   "execution_count": 30,
   "id": "bd657fa7-a7fa-433f-930c-749957774f21",
   "metadata": {},
   "outputs": [
    {
     "data": {
      "text/plain": [
       "0.4070040943142508"
      ]
     },
     "execution_count": 30,
     "metadata": {},
     "output_type": "execute_result"
    }
   ],
   "source": [
    "np.random.rand()"
   ]
  },
  {
   "cell_type": "markdown",
   "id": "b09abbe8-56fb-4c61-b555-800da4d5ce79",
   "metadata": {},
   "source": [
    "#### Use Numpy to generate an array of 25 random numbers sampled from a standard nominal distribution "
   ]
  },
  {
   "cell_type": "code",
   "execution_count": 32,
   "id": "e1e6bbfa-458c-43d9-b755-d4e563216073",
   "metadata": {},
   "outputs": [
    {
     "data": {
      "text/plain": [
       "array([ 0.16632765, -1.68865096, -0.97027555, -0.28102282,  0.05774782,\n",
       "       -1.44272407,  1.79959806, -0.27547015,  0.53376256, -0.05036047,\n",
       "       -0.23133184, -0.61279455,  2.0642835 , -0.48646144,  1.52803996,\n",
       "        0.73067169, -0.87038481,  1.34910109, -0.46760845,  1.59438301,\n",
       "        0.22359279,  1.8837114 ,  1.24110043,  0.22937787,  0.32510888])"
      ]
     },
     "execution_count": 32,
     "metadata": {},
     "output_type": "execute_result"
    }
   ],
   "source": [
    "np.random.randn(25)"
   ]
  },
  {
   "cell_type": "markdown",
   "id": "4eebfe1a-9099-439d-bfb5-d643beaf5944",
   "metadata": {},
   "source": [
    "#### Create the following matrix \n",
    "[0.01, 0.02, 0.03, 0.04, 0.05, 0.06, 0.07, 0.08, 0.09, 0.1 ]\n",
    "... \r\n",
    "       [0.91, 0.92, 0.93, 0.94, 0.95, 0.96, 0.97, 0.98, 0., 1.  ]])\r\n"
   ]
  },
  {
   "cell_type": "code",
   "execution_count": 54,
   "id": "e54bb078-43ea-475f-a947-589cc57631bc",
   "metadata": {},
   "outputs": [
    {
     "data": {
      "text/plain": [
       "array([[0.01, 0.02, 0.03, 0.04, 0.05, 0.06, 0.07, 0.08, 0.09, 0.1 ],\n",
       "       [0.11, 0.12, 0.13, 0.14, 0.15, 0.16, 0.17, 0.18, 0.19, 0.2 ],\n",
       "       [0.21, 0.22, 0.23, 0.24, 0.25, 0.26, 0.27, 0.28, 0.29, 0.3 ],\n",
       "       [0.31, 0.32, 0.33, 0.34, 0.35, 0.36, 0.37, 0.38, 0.39, 0.4 ],\n",
       "       [0.41, 0.42, 0.43, 0.44, 0.45, 0.46, 0.47, 0.48, 0.49, 0.5 ],\n",
       "       [0.51, 0.52, 0.53, 0.54, 0.55, 0.56, 0.57, 0.58, 0.59, 0.6 ],\n",
       "       [0.61, 0.62, 0.63, 0.64, 0.65, 0.66, 0.67, 0.68, 0.69, 0.7 ],\n",
       "       [0.71, 0.72, 0.73, 0.74, 0.75, 0.76, 0.77, 0.78, 0.79, 0.8 ],\n",
       "       [0.81, 0.82, 0.83, 0.84, 0.85, 0.86, 0.87, 0.88, 0.89, 0.9 ],\n",
       "       [0.91, 0.92, 0.93, 0.94, 0.95, 0.96, 0.97, 0.98, 0.99, 1.  ]])"
      ]
     },
     "execution_count": 54,
     "metadata": {},
     "output_type": "execute_result"
    }
   ],
   "source": [
    "np.delete(np.linspace(0,1,101),0).reshape(10,10)"
   ]
  },
  {
   "cell_type": "code",
   "execution_count": 56,
   "id": "519e58a3-1b9b-4f0e-8c27-6ed992372647",
   "metadata": {},
   "outputs": [
    {
     "data": {
      "text/plain": [
       "array([[0.01, 0.02, 0.03, 0.04, 0.05, 0.06, 0.07, 0.08, 0.09, 0.1 ],\n",
       "       [0.11, 0.12, 0.13, 0.14, 0.15, 0.16, 0.17, 0.18, 0.19, 0.2 ],\n",
       "       [0.21, 0.22, 0.23, 0.24, 0.25, 0.26, 0.27, 0.28, 0.29, 0.3 ],\n",
       "       [0.31, 0.32, 0.33, 0.34, 0.35, 0.36, 0.37, 0.38, 0.39, 0.4 ],\n",
       "       [0.41, 0.42, 0.43, 0.44, 0.45, 0.46, 0.47, 0.48, 0.49, 0.5 ],\n",
       "       [0.51, 0.52, 0.53, 0.54, 0.55, 0.56, 0.57, 0.58, 0.59, 0.6 ],\n",
       "       [0.61, 0.62, 0.63, 0.64, 0.65, 0.66, 0.67, 0.68, 0.69, 0.7 ],\n",
       "       [0.71, 0.72, 0.73, 0.74, 0.75, 0.76, 0.77, 0.78, 0.79, 0.8 ],\n",
       "       [0.81, 0.82, 0.83, 0.84, 0.85, 0.86, 0.87, 0.88, 0.89, 0.9 ],\n",
       "       [0.91, 0.92, 0.93, 0.94, 0.95, 0.96, 0.97, 0.98, 0.99, 1.  ]])"
      ]
     },
     "execution_count": 56,
     "metadata": {},
     "output_type": "execute_result"
    }
   ],
   "source": [
    "np.arange(1,101).reshape(10,10)/100"
   ]
  },
  {
   "cell_type": "markdown",
   "id": "d56db773-0e05-42a3-9656-4c972558ca00",
   "metadata": {},
   "source": [
    "#### Create an array of 20 linearly spaced points between 0 and 1"
   ]
  },
  {
   "cell_type": "code",
   "execution_count": 58,
   "id": "f4a57192-8339-46d9-9095-6950719f5531",
   "metadata": {},
   "outputs": [
    {
     "data": {
      "text/plain": [
       "array([0.        , 0.05263158, 0.10526316, 0.15789474, 0.21052632,\n",
       "       0.26315789, 0.31578947, 0.36842105, 0.42105263, 0.47368421,\n",
       "       0.52631579, 0.57894737, 0.63157895, 0.68421053, 0.73684211,\n",
       "       0.78947368, 0.84210526, 0.89473684, 0.94736842, 1.        ])"
      ]
     },
     "execution_count": 58,
     "metadata": {},
     "output_type": "execute_result"
    }
   ],
   "source": [
    "np.linspace(0,1,20)"
   ]
  },
  {
   "cell_type": "markdown",
   "id": "715bc15e-6bc8-4dba-9120-9d7a7922a9a2",
   "metadata": {},
   "source": [
    "## Numpy Indexing and Selection \n",
    "Now you will be given a few matrices, and be asked to replicate the resulting matrix outputs:"
   ]
  },
  {
   "cell_type": "code",
   "execution_count": 80,
   "id": "ce28b4f4-f8c9-4272-9d21-67ae2d5c5e3e",
   "metadata": {},
   "outputs": [
    {
     "data": {
      "text/plain": [
       "array([[ 1,  2,  3,  4,  5],\n",
       "       [ 6,  7,  8,  9, 10],\n",
       "       [11, 12, 13, 14, 15],\n",
       "       [16, 17, 18, 19, 20],\n",
       "       [21, 22, 23, 24, 25]])"
      ]
     },
     "execution_count": 80,
     "metadata": {},
     "output_type": "execute_result"
    }
   ],
   "source": [
    "mat = np.arange(1,26).reshape(5,5)\n",
    "mat"
   ]
  },
  {
   "cell_type": "markdown",
   "id": "c4e76d8d-5507-4090-aa9d-9e20a410db4f",
   "metadata": {},
   "source": [
    "##### Write Code Here that reproudce the Oupute of the cell below "
   ]
  },
  {
   "cell_type": "code",
   "execution_count": 81,
   "id": "ee01cd1f-7814-43e3-8750-a0d6f14d62cf",
   "metadata": {},
   "outputs": [
    {
     "data": {
      "text/plain": [
       "array([[12, 13, 14, 15],\n",
       "       [17, 18, 19, 20],\n",
       "       [22, 23, 24, 25]])"
      ]
     },
     "execution_count": 81,
     "metadata": {},
     "output_type": "execute_result"
    }
   ],
   "source": [
    "mat[2:,1:]"
   ]
  },
  {
   "cell_type": "markdown",
   "id": "1a0a17e6-3575-403e-a16b-c11000b9feb8",
   "metadata": {},
   "source": [
    "##### Write Code Here that reproudce the Oupute of the cell below"
   ]
  },
  {
   "cell_type": "code",
   "execution_count": 82,
   "id": "e4170602-9831-42b0-baba-c98e3d7546f4",
   "metadata": {},
   "outputs": [
    {
     "data": {
      "text/plain": [
       "array([[ 2],\n",
       "       [ 7],\n",
       "       [12]])"
      ]
     },
     "execution_count": 82,
     "metadata": {},
     "output_type": "execute_result"
    }
   ],
   "source": [
    "mat[:3,1:2]"
   ]
  },
  {
   "cell_type": "code",
   "execution_count": 83,
   "id": "a828bc8a-7de6-40f2-bcab-5a376000d92b",
   "metadata": {},
   "outputs": [
    {
     "data": {
      "text/plain": [
       "array([[21, 22, 23, 24, 25]])"
      ]
     },
     "execution_count": 83,
     "metadata": {},
     "output_type": "execute_result"
    }
   ],
   "source": [
    "mat[4:]"
   ]
  },
  {
   "cell_type": "code",
   "execution_count": 84,
   "id": "bc210548-1be3-4d48-865d-71d7f083e9f4",
   "metadata": {},
   "outputs": [
    {
     "data": {
      "text/plain": [
       "array([[16, 17, 18, 19, 20],\n",
       "       [21, 22, 23, 24, 25]])"
      ]
     },
     "execution_count": 84,
     "metadata": {},
     "output_type": "execute_result"
    }
   ],
   "source": [
    "mat[3:]"
   ]
  },
  {
   "cell_type": "markdown",
   "id": "1190719f-8b25-47ca-a11e-367bab1b2e45",
   "metadata": {},
   "source": [
    "#### Now do the following "
   ]
  },
  {
   "cell_type": "markdown",
   "id": "6673fbae-2de1-4364-a351-ca0c2a6c83cd",
   "metadata": {},
   "source": [
    "##### Get the sum of all the values in mat"
   ]
  },
  {
   "cell_type": "code",
   "execution_count": 112,
   "id": "386305db-d70e-475c-916d-c42256e629fa",
   "metadata": {},
   "outputs": [
    {
     "data": {
      "text/plain": [
       "np.int64(325)"
      ]
     },
     "execution_count": 112,
     "metadata": {},
     "output_type": "execute_result"
    }
   ],
   "source": [
    "mat.sum()"
   ]
  },
  {
   "cell_type": "markdown",
   "id": "33f01a86-385a-46bc-8ab4-dfa587f4c894",
   "metadata": {},
   "source": [
    "##### Get the standard deviation of the values in mat"
   ]
  },
  {
   "cell_type": "code",
   "execution_count": 113,
   "id": "9e30d6d0-e7c7-4ea5-b99e-4ce603767275",
   "metadata": {},
   "outputs": [
    {
     "data": {
      "text/plain": [
       "np.float64(7.211102550927978)"
      ]
     },
     "execution_count": 113,
     "metadata": {},
     "output_type": "execute_result"
    }
   ],
   "source": [
    "mat.std()"
   ]
  },
  {
   "cell_type": "code",
   "execution_count": 114,
   "id": "3a29f495-922d-4735-ab6e-c9a1494fb4e5",
   "metadata": {},
   "outputs": [
    {
     "data": {
      "text/plain": [
       "array([55, 60, 65, 70, 75])"
      ]
     },
     "execution_count": 114,
     "metadata": {},
     "output_type": "execute_result"
    }
   ],
   "source": [
    "mat.sum(axis=0)"
   ]
  },
  {
   "cell_type": "code",
   "execution_count": null,
   "id": "bc4ec8fb-1a61-4e90-bf72-7a162ebd5c55",
   "metadata": {},
   "outputs": [],
   "source": []
  }
 ],
 "metadata": {
  "kernelspec": {
   "display_name": "Python 3 (ipykernel)",
   "language": "python",
   "name": "python3"
  },
  "language_info": {
   "codemirror_mode": {
    "name": "ipython",
    "version": 3
   },
   "file_extension": ".py",
   "mimetype": "text/x-python",
   "name": "python",
   "nbconvert_exporter": "python",
   "pygments_lexer": "ipython3",
   "version": "3.12.3"
  }
 },
 "nbformat": 4,
 "nbformat_minor": 5
}
